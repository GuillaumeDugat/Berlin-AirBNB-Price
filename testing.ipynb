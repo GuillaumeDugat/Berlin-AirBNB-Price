{
 "cells": [
  {
   "cell_type": "code",
   "execution_count": 6,
   "metadata": {},
   "outputs": [],
   "source": [
    "from preprocessing.main_preprocessing import preprocess\n",
    "from preprocessing.dimensional_reduction import subsetSelection\n",
    "\n",
    "X_train, X_test, Y_train, Y_test, columns = preprocess(\n",
    "    path_to_folder='data',\n",
    "    remove_outliers=True,\n",
    "    imputing_missing_values=False,\n",
    "    rescaling=True,\n",
    "    pca=False,\n",
    "    pls=False,\n",
    "    forward_selection=False,\n",
    "    backward_selection=False,\n",
    ")"
   ]
  },
  {
   "cell_type": "code",
   "execution_count": 7,
   "metadata": {},
   "outputs": [
    {
     "name": "stdout",
     "output_type": "stream",
     "text": [
      "Backward Test\n",
      "Total elapsed time: 124.5301206111908 seconds.\n"
     ]
    },
    {
     "data": {
      "text/plain": [
       "('Is Superhost',\n",
       " 'Latitude',\n",
       " 'Longitude',\n",
       " 'Accomodates',\n",
       " 'Bathrooms',\n",
       " 'Bedrooms',\n",
       " 'Guests Included',\n",
       " 'Min Nights',\n",
       " 'Neighborhood Group_Charlottenburg-Wilm.',\n",
       " 'Neighborhood Group_Friedrichshain-Kreuzberg',\n",
       " 'Neighborhood Group_Mitte',\n",
       " 'Neighborhood Group_NeukÃ¶lln',\n",
       " 'Neighborhood Group_Pankow',\n",
       " 'Neighborhood Group_Reinickendorf',\n",
       " 'Neighborhood Group_Tempelhof - SchÃ¶neberg',\n",
       " 'Neighborhood Group_Treptow - KÃ¶penick',\n",
       " 'Property Type_Apartment',\n",
       " 'Property Type_Boutique hotel',\n",
       " 'Property Type_Hostel',\n",
       " 'Property Type_Hotel',\n",
       " 'Property Type_Loft',\n",
       " 'Property Type_Serviced apartment',\n",
       " 'Room Type_Entire home/apt',\n",
       " 'Room Type_Private room',\n",
       " 'Dist_ALEXANDERPLATZ',\n",
       " 'Dist_BRANDEBOURG',\n",
       " 'Dist_GENDARMENMARKT')"
      ]
     },
     "execution_count": 7,
     "metadata": {},
     "output_type": "execute_result"
    }
   ],
   "source": [
    "subsetSelection(X_train, Y_train, columns, typeSelection=\"Backward\")"
   ]
  },
  {
   "cell_type": "code",
   "execution_count": 8,
   "metadata": {},
   "outputs": [
    {
     "name": "stdout",
     "output_type": "stream",
     "text": [
      "Forward Test\n",
      "Total elapsed time: 74.93661212921143 seconds.\n"
     ]
    },
    {
     "data": {
      "text/plain": [
       "['Accomodates',\n",
       " 'Room Type_Entire home/apt',\n",
       " 'Bathrooms',\n",
       " 'Property Type_Hotel',\n",
       " 'Bedrooms',\n",
       " 'Dist_GENDARMENMARKT',\n",
       " 'Guests Included',\n",
       " 'Property Type_Loft',\n",
       " 'Neighborhood Group_NeukÃ¶lln',\n",
       " 'Is Superhost',\n",
       " 'Neighborhood Group_Charlottenburg-Wilm.',\n",
       " 'Property Type_Serviced apartment',\n",
       " 'Dist_BRANDEBOURG',\n",
       " 'Dist_ALEXANDERPLATZ',\n",
       " 'Property Type_Boutique hotel',\n",
       " 'Neighborhood Group_Mitte',\n",
       " 'Neighborhood Group_Treptow - KÃ¶penick',\n",
       " 'Min Nights',\n",
       " 'Latitude',\n",
       " 'Property Type_Hostel',\n",
       " 'Property Type_Apartment',\n",
       " 'Neighborhood Group_Lichtenberg',\n",
       " 'Neighborhood Group_Marzahn - Hellersdorf',\n",
       " 'Room Type_Shared room',\n",
       " 'Property Type_House',\n",
       " 'Neighborhood Group_Pankow',\n",
       " 'Property Type_Condominium',\n",
       " 'Room Type_Private room']"
      ]
     },
     "execution_count": 8,
     "metadata": {},
     "output_type": "execute_result"
    }
   ],
   "source": [
    "subsetSelection(X_train, Y_train, columns, typeSelection=\"Forward\")"
   ]
  },
  {
   "cell_type": "code",
   "execution_count": 9,
   "metadata": {},
   "outputs": [
    {
     "data": {
      "image/png": "[encoded data removed]",
      "text/plain": [
       "<Figure size 432x288 with 1 Axes>"
      ]
     },
     "metadata": {
      "needs_background": "light"
     },
     "output_type": "display_data"
    }
   ],
   "source": [
    "from preprocessing.pca import pcaSelection\n",
    "import matplotlib.pyplot as plt\n",
    "import numpy as np\n",
    "\n",
    "# Principal Component Analysis (with the best num_features, see preprocessing/pca.py)\n",
    "nb_cols = len(X_train[0])\n",
    "pca_transformer = pcaSelection(nb_cols)\n",
    "X_train = pca_transformer.fit_transform(X_train)\n",
    "\n",
    "\n",
    "# Explained variance plot\n",
    "plt.bar(range(1,len(pca_transformer.explained_variance_ratio_ )+1),pca_transformer.explained_variance_ratio_ )\n",
    "plt.ylabel('Percentage of explained variance')\n",
    "plt.xlabel('Number of components')\n",
    "plt.plot(range(1,len(pca_transformer.explained_variance_ratio_ )+1),\n",
    "         np.cumsum(pca_transformer.explained_variance_ratio_ ),\n",
    "         c='red',\n",
    "         label=\"Cumulative Explained Variance\")\n",
    "plt.legend(loc='upper left')\n",
    "plt.show()"
   ]
  },
  {
   "cell_type": "code",
   "execution_count": 10,
   "metadata": {},
   "outputs": [
    {
     "name": "stderr",
     "output_type": "stream",
     "text": [
      "No artists with labels found to put in legend.  Note that artists whose label start with an underscore are ignored when legend() is called with no argument.\n"
     ]
    },
    {
     "data": {
      "image/png": "[encoded data removed]",
      "text/plain": [
       "<Figure size 432x288 with 1 Axes>"
      ]
     },
     "metadata": {
      "needs_background": "light"
     },
     "output_type": "display_data"
    }
   ],
   "source": [
    "# Explained variance plot\n",
    "plt.bar(range(1,len(pca_transformer.explained_variance_ratio_ )+1),pca_transformer.explained_variance_ratio_ )\n",
    "plt.ylabel('Percentage of explained variance')\n",
    "plt.xlabel('Number of components')\n",
    "plt.legend(loc='upper left')\n",
    "plt.show()"
   ]
  }
 ],
 "metadata": {
  "kernelspec": {
   "display_name": "Python 3.9.13 64-bit",
   "language": "python",
   "name": "python3"
  },
  "language_info": {
   "codemirror_mode": {
    "name": "ipython",
    "version": 3
   },
   "file_extension": ".py",
   "mimetype": "text/x-python",
   "name": "python",
   "nbconvert_exporter": "python",
   "pygments_lexer": "ipython3",
   "version": "3.9.13"
  },
  "orig_nbformat": 4,
  "vscode": {
   "interpreter": {
    "hash": "88138175cbb6224e62c0ece1f7e9b6cb34c161666cf36be8b5c20091db9a983b"
   }
  }
 },
 "nbformat": 4,
 "nbformat_minor": 2
}
